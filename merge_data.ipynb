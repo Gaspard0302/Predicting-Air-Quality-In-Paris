{
 "cells": [
  {
   "cell_type": "code",
   "execution_count": 1,
   "metadata": {},
   "outputs": [
    {
     "name": "stderr",
     "output_type": "stream",
     "text": [
      "/Users/abohane/anaconda3/lib/python3.11/site-packages/pandas/core/arrays/masked.py:60: UserWarning: Pandas requires version '1.3.6' or newer of 'bottleneck' (version '1.3.5' currently installed).\n",
      "  from pandas.core import (\n"
     ]
    }
   ],
   "source": [
    "import pandas as pd"
   ]
  },
  {
   "cell_type": "code",
   "execution_count": 2,
   "metadata": {},
   "outputs": [],
   "source": [
    "# for test set\n",
    "\n",
    "df = pd.read_csv('data/processed_data.csv')\n",
    "weather_df = pd.read_csv('data/hourly_weather_data.csv')\n",
    "df_test = pd.read_csv('data/test.csv')"
   ]
  },
  {
   "cell_type": "code",
   "execution_count": 3,
   "metadata": {},
   "outputs": [],
   "source": [
    "df = df.rename(columns={'id': 'date'})\n",
    "df_test = df_test.rename(columns={'id': 'date'})"
   ]
  },
  {
   "cell_type": "code",
   "execution_count": 4,
   "metadata": {},
   "outputs": [],
   "source": [
    "weather_df = weather_df.drop(['Unnamed: 0'], axis=1)\n"
   ]
  },
  {
   "cell_type": "code",
   "execution_count": 5,
   "metadata": {},
   "outputs": [],
   "source": [
    "df['date'] = pd.to_datetime(df['date']).dt.strftime('%Y-%m-%d %H')\n",
    "df_test['date'] = pd.to_datetime(df_test['date']).dt.strftime('%Y-%m-%d %H')\n",
    "\n",
    "weather_df['date'] = pd.to_datetime(weather_df['date']).dt.strftime('%Y-%m-%d %H')"
   ]
  },
  {
   "cell_type": "code",
   "execution_count": 6,
   "metadata": {},
   "outputs": [],
   "source": [
    "weather_train_start = '2020-01-08 00'\n",
    "weather_train_end = '2024-09-03 22'\n",
    "\n",
    "weather_test_start = '2024-09-03 23'\n",
    "weather_test_end = '2024-09-24 22'"
   ]
  },
  {
   "cell_type": "code",
   "execution_count": 7,
   "metadata": {},
   "outputs": [],
   "source": [
    "weather_train = weather_df[(weather_df['date'] >= weather_train_start) & (weather_df['date'] <= weather_train_end)]\n",
    "\n",
    "weather_test = weather_df[(weather_df['date'] >= weather_test_start) & (weather_df['date'] <= weather_test_end)]"
   ]
  },
  {
   "cell_type": "code",
   "execution_count": 8,
   "metadata": {},
   "outputs": [
    {
     "data": {
      "text/html": [
       "<div>\n",
       "<style scoped>\n",
       "    .dataframe tbody tr th:only-of-type {\n",
       "        vertical-align: middle;\n",
       "    }\n",
       "\n",
       "    .dataframe tbody tr th {\n",
       "        vertical-align: top;\n",
       "    }\n",
       "\n",
       "    .dataframe thead th {\n",
       "        text-align: right;\n",
       "    }\n",
       "</style>\n",
       "<table border=\"1\" class=\"dataframe\">\n",
       "  <thead>\n",
       "    <tr style=\"text-align: right;\">\n",
       "      <th></th>\n",
       "      <th>date</th>\n",
       "      <th>temperature</th>\n",
       "      <th>humidite</th>\n",
       "      <th>vent_moyen</th>\n",
       "      <th>vent_direction</th>\n",
       "      <th>pluie_1h</th>\n",
       "    </tr>\n",
       "  </thead>\n",
       "  <tbody>\n",
       "    <tr>\n",
       "      <th>168</th>\n",
       "      <td>2020-01-08 00</td>\n",
       "      <td>11.3</td>\n",
       "      <td>94.8</td>\n",
       "      <td>4.2</td>\n",
       "      <td>85.6</td>\n",
       "      <td>0.0</td>\n",
       "    </tr>\n",
       "    <tr>\n",
       "      <th>169</th>\n",
       "      <td>2020-01-08 01</td>\n",
       "      <td>11.4</td>\n",
       "      <td>95.4</td>\n",
       "      <td>5.8</td>\n",
       "      <td>175.0</td>\n",
       "      <td>0.0</td>\n",
       "    </tr>\n",
       "    <tr>\n",
       "      <th>170</th>\n",
       "      <td>2020-01-08 02</td>\n",
       "      <td>12.1</td>\n",
       "      <td>93.5</td>\n",
       "      <td>7.8</td>\n",
       "      <td>127.3</td>\n",
       "      <td>0.0</td>\n",
       "    </tr>\n",
       "    <tr>\n",
       "      <th>171</th>\n",
       "      <td>2020-01-08 03</td>\n",
       "      <td>12.6</td>\n",
       "      <td>91.5</td>\n",
       "      <td>2.7</td>\n",
       "      <td>203.2</td>\n",
       "      <td>0.0</td>\n",
       "    </tr>\n",
       "    <tr>\n",
       "      <th>172</th>\n",
       "      <td>2020-01-08 04</td>\n",
       "      <td>12.2</td>\n",
       "      <td>92.0</td>\n",
       "      <td>7.8</td>\n",
       "      <td>139.7</td>\n",
       "      <td>0.0</td>\n",
       "    </tr>\n",
       "  </tbody>\n",
       "</table>\n",
       "</div>"
      ],
      "text/plain": [
       "              date  temperature  humidite  vent_moyen  vent_direction  \\\n",
       "168  2020-01-08 00         11.3      94.8         4.2            85.6   \n",
       "169  2020-01-08 01         11.4      95.4         5.8           175.0   \n",
       "170  2020-01-08 02         12.1      93.5         7.8           127.3   \n",
       "171  2020-01-08 03         12.6      91.5         2.7           203.2   \n",
       "172  2020-01-08 04         12.2      92.0         7.8           139.7   \n",
       "\n",
       "     pluie_1h  \n",
       "168       0.0  \n",
       "169       0.0  \n",
       "170       0.0  \n",
       "171       0.0  \n",
       "172       0.0  "
      ]
     },
     "execution_count": 8,
     "metadata": {},
     "output_type": "execute_result"
    }
   ],
   "source": [
    "weather_train.head()"
   ]
  },
  {
   "cell_type": "code",
   "execution_count": 9,
   "metadata": {},
   "outputs": [],
   "source": [
    "df_train = df.merge(weather_train, on='date', how='inner')\n",
    "\n",
    "df_test = df_test.merge(weather_test, on='date', how='inner')\n",
    "\n",
    "df_train.set_index('date', inplace=True)\n",
    "df_test.set_index('date', inplace=True)"
   ]
  },
  {
   "cell_type": "code",
   "execution_count": 10,
   "metadata": {},
   "outputs": [],
   "source": [
    "df_train.to_csv('df_train.csv')"
   ]
  },
  {
   "cell_type": "code",
   "execution_count": 11,
   "metadata": {},
   "outputs": [],
   "source": [
    "df_test.to_csv('df_test.csv')"
   ]
  },
  {
   "cell_type": "code",
   "execution_count": 12,
   "metadata": {},
   "outputs": [
    {
     "data": {
      "text/html": [
       "<div>\n",
       "<style scoped>\n",
       "    .dataframe tbody tr th:only-of-type {\n",
       "        vertical-align: middle;\n",
       "    }\n",
       "\n",
       "    .dataframe tbody tr th {\n",
       "        vertical-align: top;\n",
       "    }\n",
       "\n",
       "    .dataframe thead th {\n",
       "        text-align: right;\n",
       "    }\n",
       "</style>\n",
       "<table border=\"1\" class=\"dataframe\">\n",
       "  <thead>\n",
       "    <tr style=\"text-align: right;\">\n",
       "      <th></th>\n",
       "      <th>temperature</th>\n",
       "      <th>humidite</th>\n",
       "      <th>vent_moyen</th>\n",
       "      <th>vent_direction</th>\n",
       "      <th>pluie_1h</th>\n",
       "    </tr>\n",
       "    <tr>\n",
       "      <th>date</th>\n",
       "      <th></th>\n",
       "      <th></th>\n",
       "      <th></th>\n",
       "      <th></th>\n",
       "      <th></th>\n",
       "    </tr>\n",
       "  </thead>\n",
       "  <tbody>\n",
       "    <tr>\n",
       "      <th>2024-09-03 23</th>\n",
       "      <td>18.3</td>\n",
       "      <td>80.8</td>\n",
       "      <td>3.2</td>\n",
       "      <td>228.7</td>\n",
       "      <td>0.0</td>\n",
       "    </tr>\n",
       "    <tr>\n",
       "      <th>2024-09-04 00</th>\n",
       "      <td>18.2</td>\n",
       "      <td>81.2</td>\n",
       "      <td>6.7</td>\n",
       "      <td>245.3</td>\n",
       "      <td>0.0</td>\n",
       "    </tr>\n",
       "    <tr>\n",
       "      <th>2024-09-04 01</th>\n",
       "      <td>17.8</td>\n",
       "      <td>82.0</td>\n",
       "      <td>7.5</td>\n",
       "      <td>324.3</td>\n",
       "      <td>0.0</td>\n",
       "    </tr>\n",
       "    <tr>\n",
       "      <th>2024-09-04 02</th>\n",
       "      <td>17.6</td>\n",
       "      <td>81.7</td>\n",
       "      <td>7.0</td>\n",
       "      <td>249.8</td>\n",
       "      <td>0.0</td>\n",
       "    </tr>\n",
       "    <tr>\n",
       "      <th>2024-09-04 03</th>\n",
       "      <td>16.9</td>\n",
       "      <td>83.0</td>\n",
       "      <td>7.8</td>\n",
       "      <td>210.5</td>\n",
       "      <td>0.0</td>\n",
       "    </tr>\n",
       "  </tbody>\n",
       "</table>\n",
       "</div>"
      ],
      "text/plain": [
       "               temperature  humidite  vent_moyen  vent_direction  pluie_1h\n",
       "date                                                                      \n",
       "2024-09-03 23         18.3      80.8         3.2           228.7       0.0\n",
       "2024-09-04 00         18.2      81.2         6.7           245.3       0.0\n",
       "2024-09-04 01         17.8      82.0         7.5           324.3       0.0\n",
       "2024-09-04 02         17.6      81.7         7.0           249.8       0.0\n",
       "2024-09-04 03         16.9      83.0         7.8           210.5       0.0"
      ]
     },
     "execution_count": 12,
     "metadata": {},
     "output_type": "execute_result"
    }
   ],
   "source": [
    "df_test.head()"
   ]
  },
  {
   "cell_type": "code",
   "execution_count": null,
   "metadata": {},
   "outputs": [],
   "source": []
  }
 ],
 "metadata": {
  "kernelspec": {
   "display_name": "base",
   "language": "python",
   "name": "python3"
  },
  "language_info": {
   "codemirror_mode": {
    "name": "ipython",
    "version": 3
   },
   "file_extension": ".py",
   "mimetype": "text/x-python",
   "name": "python",
   "nbconvert_exporter": "python",
   "pygments_lexer": "ipython3",
   "version": "3.11.5"
  }
 },
 "nbformat": 4,
 "nbformat_minor": 2
}
